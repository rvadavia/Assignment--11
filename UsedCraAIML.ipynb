{
 "cells": [
  {
   "cell_type": "markdown",
   "metadata": {},
   "source": [
    "**OVERVIEW**\n",
    "\n",
    "In this application, you will explore a dataset from kaggle. The original dataset contained information on 3 million used cars. The provided dataset contains information on 426K cars to ensure speed of processing.  Your goal is to understand what factors make a car more or less expensive.  As a result of your analysis, you should provide clear recommendations to your client -- a used car dealership -- as to what consumers value in a used car."
   ]
  },
  {
   "attachments": {},
   "cell_type": "markdown",
   "metadata": {},
   "source": [
    "### Business Understanding\n",
    "\n",
    "We have a business challenge to discover what influences the price of used cars. We'll apply CRISP-DM and several Machine Learning techniques to achieve this goal!"
   ]
  },
  {
   "attachments": {},
   "cell_type": "markdown",
   "metadata": {},
   "source": [
    "### problem statement \n",
    "\n",
    "As a used car dealer, staying on top of the constantly changing market value of your cars is an essential part of running a successful business. To remain competitive in this space, predicting the true worthof each vehicle based on its attributes can be critical to accurate pricing and increased customer interest. Developing a predictive model that considers factors such as make, model year, mileage and condition could help ensure you get more bang for your buck when setting prices and attract new customers."
   ]
  },
  {
   "attachments": {},
   "cell_type": "markdown",
   "metadata": {},
   "source": [
    "Several machine learning models can be used to predict the value of a user's car. The choice of model depends on several factors, including the size and quality of the available data, the complexity of the problem, and the desired level of accuracy. Some of the commonly used models for car value prediction include:"
   ]
  },
  {
   "attachments": {},
   "cell_type": "markdown",
   "metadata": {},
   "source": [
    "1.\tLinear regression: This simple model fits a linear equation to the data to predict the car's value. It works well with a linear relationship between the input features and the output value.\n",
    "2.\tRandom Forest: This is a powerful model that can handle both categorical and continuous features. It works well when there are many input features, and the relationship between them and the output value is complex.\n",
    "3.\tGradient Boosting: This model uses an ensemble of weak learners to make predictions. It works well when there are many input features, and the relationship between them and the output value is complex.\n",
    "4.\tNeural Networks: This powerful model can handle complex relationships between the input features and the output value. It works well when a large amount of data is available, and the relationship between the input features and the output value is non-linear.\n",
    "\n",
    "It is important to note that the model's accuracy depends on the quality and quantity of the data used for training. Therefore, having a large, diverse, and high-quality dataset is essential to train the model for accurate predictions.\n"
   ]
  },
  {
   "attachments": {},
   "cell_type": "markdown",
   "metadata": {},
   "source": [
    "The business problem could involve addressing the following questions:\n",
    "\n",
    "1. How can we develop a predictive model that accurately estimates the value of a used car based on its attributes?\n",
    "2. Which features are the most important in determining the value of a used car?\n",
    "3. How can we validate the accuracy of the predictive model?\n",
    "4. How can we use the predictive model to set competitive prices for our used cars?\n",
    "5. How can we update the predictive model to reflect changes in the market and in the availability of data?\n",
    "\n",
    "By addressing these questions, the used car dealer could develop a data-driven approach to pricing their used cars that takes into account the unique features of each car and the current market conditions. This could lead to increased customer satisfaction, increased sales, and improved profitability for the dealership.\n",
    "\n",
    "\n",
    "\n"
   ]
  },
  {
   "attachments": {},
   "cell_type": "markdown",
   "metadata": {},
   "source": [
    "We are exploring two innovative approaches to predicting the value of used cars from a dataset containing three million entries. The first method is linear regression, an intuitive machine learning technique which draws meaningful insights from data using mathematical models and equations. Our second approach involves KMeans(), a powerful clustering algorithm provided by scikit-learn library in Python that organizes similar data points into clusters for unsupervised learning. By randomly selecting K centroids and iteratively assigning them until convergence is reached, we can gain valuable insight about how car attributes shape their market value!"
   ]
  },
  {
   "cell_type": "code",
   "execution_count": 836,
   "metadata": {},
   "outputs": [
    {
     "name": "stdout",
     "output_type": "stream",
     "text": [
      "data/vehicles.csv\n"
     ]
    }
   ],
   "source": [
    "import os\n",
    "for dirname, _, filenames in os.walk('data/'):\n",
    "    for filename in filenames:\n",
    "        print(os.path.join(dirname, filename))\n",
    "\n",
    "# Data Processing\n",
    "import numpy as np\n",
    "import pandas as pd\n",
    "import datetime as dt\n",
    "\n",
    "from sklearn.linear_model import LinearRegression\n",
    "from sklearn.tree import DecisionTreeRegressor\n",
    "from sklearn.ensemble import RandomForestRegressor\n",
    "\n",
    "\n",
    "from sklearn.preprocessing import StandardScaler\n",
    "from sklearn.model_selection import train_test_split, cross_val_score\n",
    "from sklearn.metrics import mean_squared_error\n",
    "\n",
    "import seaborn as sns\n",
    "import matplotlib.pyplot as plt\n",
    "\n",
    "from sklearn.experimental import enable_iterative_imputer\n",
    "from sklearn.impute import IterativeImputer\n",
    "\n",
    "from sklearn.experimental import enable_iterative_imputer  # noqa\n",
    "from sklearn.datasets import fetch_california_housing\n",
    "from sklearn.impute import SimpleImputer\n",
    "from sklearn.impute import IterativeImputer\n",
    "from sklearn.linear_model import BayesianRidge, Ridge\n",
    "from sklearn.kernel_approximation import Nystroem\n",
    "from sklearn.ensemble import RandomForestRegressor\n",
    "from sklearn.neighbors import KNeighborsRegressor\n",
    "from sklearn.pipeline import make_pipeline\n",
    "from sklearn.model_selection import cross_val_score\n",
    "\n"
   ]
  },
  {
   "cell_type": "markdown",
   "metadata": {},
   "source": [
    "### Data Understanding\n",
    "\n",
    "After considering the business understanding, we want to get familiar with our data.  Write down some steps that you would take to get to know the dataset and identify any quality issues within.  Take time to get to know the dataset and explore what information it contains and how this could be used to inform your business understanding."
   ]
  },
  {
   "cell_type": "code",
   "execution_count": 837,
   "metadata": {},
   "outputs": [],
   "source": [
    "\n",
    "UsedCar_data = pd.read_csv('data/vehicles.csv')\n",
    "\n"
   ]
  },
  {
   "cell_type": "code",
   "execution_count": 838,
   "metadata": {},
   "outputs": [
    {
     "name": "stdout",
     "output_type": "stream",
     "text": [
      "number of rows - 426880\n",
      "number of columns - 18\n"
     ]
    }
   ],
   "source": [
    "print(f'''number of rows - {UsedCar_data.shape[0]}\n",
    "number of columns - {UsedCar_data.shape[1]}''')"
   ]
  },
  {
   "cell_type": "code",
   "execution_count": 839,
   "metadata": {},
   "outputs": [
    {
     "name": "stdout",
     "output_type": "stream",
     "text": [
      "<class 'pandas.core.frame.DataFrame'>\n",
      "RangeIndex: 426880 entries, 0 to 426879\n",
      "Data columns (total 18 columns):\n",
      " #   Column        Non-Null Count   Dtype  \n",
      "---  ------        --------------   -----  \n",
      " 0   id            426880 non-null  int64  \n",
      " 1   region        426880 non-null  object \n",
      " 2   price         426880 non-null  int64  \n",
      " 3   year          425675 non-null  float64\n",
      " 4   manufacturer  409234 non-null  object \n",
      " 5   model         421603 non-null  object \n",
      " 6   condition     252776 non-null  object \n",
      " 7   cylinders     249202 non-null  object \n",
      " 8   fuel          423867 non-null  object \n",
      " 9   odometer      422480 non-null  float64\n",
      " 10  title_status  418638 non-null  object \n",
      " 11  transmission  424324 non-null  object \n",
      " 12  VIN           265838 non-null  object \n",
      " 13  drive         296313 non-null  object \n",
      " 14  size          120519 non-null  object \n",
      " 15  type          334022 non-null  object \n",
      " 16  paint_color   296677 non-null  object \n",
      " 17  state         426880 non-null  object \n",
      "dtypes: float64(2), int64(2), object(14)\n",
      "memory usage: 58.6+ MB\n"
     ]
    }
   ],
   "source": [
    "UsedCar_data.info()"
   ]
  },
  {
   "cell_type": "code",
   "execution_count": 840,
   "metadata": {},
   "outputs": [
    {
     "name": "stdout",
     "output_type": "stream",
     "text": [
      "<class 'pandas.core.frame.DataFrame'>\n",
      "RangeIndex: 426880 entries, 0 to 426879\n",
      "Data columns (total 18 columns):\n",
      " #   Column        Non-Null Count   Dtype \n",
      "---  ------        --------------   ----- \n",
      " 0   id            426880 non-null  Int64 \n",
      " 1   region        426880 non-null  string\n",
      " 2   price         426880 non-null  Int64 \n",
      " 3   year          425675 non-null  Int64 \n",
      " 4   manufacturer  409234 non-null  string\n",
      " 5   model         421603 non-null  string\n",
      " 6   condition     252776 non-null  string\n",
      " 7   cylinders     249202 non-null  string\n",
      " 8   fuel          423867 non-null  string\n",
      " 9   odometer      422480 non-null  Int64 \n",
      " 10  title_status  418638 non-null  string\n",
      " 11  transmission  424324 non-null  string\n",
      " 12  VIN           265838 non-null  string\n",
      " 13  drive         296313 non-null  string\n",
      " 14  size          120519 non-null  string\n",
      " 15  type          334022 non-null  string\n",
      " 16  paint_color   296677 non-null  string\n",
      " 17  state         426880 non-null  string\n",
      "dtypes: Int64(4), string(14)\n",
      "memory usage: 60.3 MB\n"
     ]
    }
   ],
   "source": [
    "UsedCar_data = UsedCar_data.convert_dtypes()\n",
    "UsedCar_data.info()"
   ]
  },
  {
   "cell_type": "code",
   "execution_count": 841,
   "metadata": {},
   "outputs": [],
   "source": [
    "UsedCar_data_Rev2 = UsedCar_data.drop(['id','VIN','state' ,'region','title_status'], axis=1)\n",
    "UsedCar_data_Rev2 = UsedCar_data_Rev2.drop(['size'], axis=1)\n",
    "UsedCar_data_Rev2 = UsedCar_data_Rev2.drop(['model'], axis=1)"
   ]
  },
  {
   "cell_type": "code",
   "execution_count": 842,
   "metadata": {},
   "outputs": [
    {
     "data": {
      "text/html": [
       "<div>\n",
       "<style scoped>\n",
       "    .dataframe tbody tr th:only-of-type {\n",
       "        vertical-align: middle;\n",
       "    }\n",
       "\n",
       "    .dataframe tbody tr th {\n",
       "        vertical-align: top;\n",
       "    }\n",
       "\n",
       "    .dataframe thead th {\n",
       "        text-align: right;\n",
       "    }\n",
       "</style>\n",
       "<table border=\"1\" class=\"dataframe\">\n",
       "  <thead>\n",
       "    <tr style=\"text-align: right;\">\n",
       "      <th></th>\n",
       "      <th>price</th>\n",
       "      <th>year</th>\n",
       "      <th>manufacturer</th>\n",
       "      <th>condition</th>\n",
       "      <th>cylinders</th>\n",
       "      <th>fuel</th>\n",
       "      <th>odometer</th>\n",
       "      <th>transmission</th>\n",
       "      <th>drive</th>\n",
       "      <th>type</th>\n",
       "      <th>paint_color</th>\n",
       "    </tr>\n",
       "  </thead>\n",
       "  <tbody>\n",
       "    <tr>\n",
       "      <th>count</th>\n",
       "      <td>426880.0</td>\n",
       "      <td>425675.0</td>\n",
       "      <td>409234</td>\n",
       "      <td>252776</td>\n",
       "      <td>249202</td>\n",
       "      <td>423867</td>\n",
       "      <td>422480.0</td>\n",
       "      <td>424324</td>\n",
       "      <td>296313</td>\n",
       "      <td>334022</td>\n",
       "      <td>296677</td>\n",
       "    </tr>\n",
       "    <tr>\n",
       "      <th>unique</th>\n",
       "      <td>&lt;NA&gt;</td>\n",
       "      <td>&lt;NA&gt;</td>\n",
       "      <td>42</td>\n",
       "      <td>6</td>\n",
       "      <td>8</td>\n",
       "      <td>5</td>\n",
       "      <td>&lt;NA&gt;</td>\n",
       "      <td>3</td>\n",
       "      <td>3</td>\n",
       "      <td>13</td>\n",
       "      <td>12</td>\n",
       "    </tr>\n",
       "    <tr>\n",
       "      <th>top</th>\n",
       "      <td>&lt;NA&gt;</td>\n",
       "      <td>&lt;NA&gt;</td>\n",
       "      <td>ford</td>\n",
       "      <td>good</td>\n",
       "      <td>6 cylinders</td>\n",
       "      <td>gas</td>\n",
       "      <td>&lt;NA&gt;</td>\n",
       "      <td>automatic</td>\n",
       "      <td>4wd</td>\n",
       "      <td>sedan</td>\n",
       "      <td>white</td>\n",
       "    </tr>\n",
       "    <tr>\n",
       "      <th>freq</th>\n",
       "      <td>&lt;NA&gt;</td>\n",
       "      <td>&lt;NA&gt;</td>\n",
       "      <td>70985</td>\n",
       "      <td>121456</td>\n",
       "      <td>94169</td>\n",
       "      <td>356209</td>\n",
       "      <td>&lt;NA&gt;</td>\n",
       "      <td>336524</td>\n",
       "      <td>131904</td>\n",
       "      <td>87056</td>\n",
       "      <td>79285</td>\n",
       "    </tr>\n",
       "    <tr>\n",
       "      <th>mean</th>\n",
       "      <td>75199.033187</td>\n",
       "      <td>2011.235191</td>\n",
       "      <td>NaN</td>\n",
       "      <td>NaN</td>\n",
       "      <td>NaN</td>\n",
       "      <td>NaN</td>\n",
       "      <td>98043.331443</td>\n",
       "      <td>NaN</td>\n",
       "      <td>NaN</td>\n",
       "      <td>NaN</td>\n",
       "      <td>NaN</td>\n",
       "    </tr>\n",
       "    <tr>\n",
       "      <th>std</th>\n",
       "      <td>12182282.173598</td>\n",
       "      <td>9.45212</td>\n",
       "      <td>NaN</td>\n",
       "      <td>NaN</td>\n",
       "      <td>NaN</td>\n",
       "      <td>NaN</td>\n",
       "      <td>213881.500798</td>\n",
       "      <td>NaN</td>\n",
       "      <td>NaN</td>\n",
       "      <td>NaN</td>\n",
       "      <td>NaN</td>\n",
       "    </tr>\n",
       "    <tr>\n",
       "      <th>min</th>\n",
       "      <td>0.0</td>\n",
       "      <td>1900.0</td>\n",
       "      <td>NaN</td>\n",
       "      <td>NaN</td>\n",
       "      <td>NaN</td>\n",
       "      <td>NaN</td>\n",
       "      <td>0.0</td>\n",
       "      <td>NaN</td>\n",
       "      <td>NaN</td>\n",
       "      <td>NaN</td>\n",
       "      <td>NaN</td>\n",
       "    </tr>\n",
       "    <tr>\n",
       "      <th>25%</th>\n",
       "      <td>5900.0</td>\n",
       "      <td>2008.0</td>\n",
       "      <td>NaN</td>\n",
       "      <td>NaN</td>\n",
       "      <td>NaN</td>\n",
       "      <td>NaN</td>\n",
       "      <td>37704.0</td>\n",
       "      <td>NaN</td>\n",
       "      <td>NaN</td>\n",
       "      <td>NaN</td>\n",
       "      <td>NaN</td>\n",
       "    </tr>\n",
       "    <tr>\n",
       "      <th>50%</th>\n",
       "      <td>13950.0</td>\n",
       "      <td>2013.0</td>\n",
       "      <td>NaN</td>\n",
       "      <td>NaN</td>\n",
       "      <td>NaN</td>\n",
       "      <td>NaN</td>\n",
       "      <td>85548.0</td>\n",
       "      <td>NaN</td>\n",
       "      <td>NaN</td>\n",
       "      <td>NaN</td>\n",
       "      <td>NaN</td>\n",
       "    </tr>\n",
       "    <tr>\n",
       "      <th>75%</th>\n",
       "      <td>26485.75</td>\n",
       "      <td>2017.0</td>\n",
       "      <td>NaN</td>\n",
       "      <td>NaN</td>\n",
       "      <td>NaN</td>\n",
       "      <td>NaN</td>\n",
       "      <td>133542.5</td>\n",
       "      <td>NaN</td>\n",
       "      <td>NaN</td>\n",
       "      <td>NaN</td>\n",
       "      <td>NaN</td>\n",
       "    </tr>\n",
       "    <tr>\n",
       "      <th>max</th>\n",
       "      <td>3736928711.0</td>\n",
       "      <td>2022.0</td>\n",
       "      <td>NaN</td>\n",
       "      <td>NaN</td>\n",
       "      <td>NaN</td>\n",
       "      <td>NaN</td>\n",
       "      <td>10000000.0</td>\n",
       "      <td>NaN</td>\n",
       "      <td>NaN</td>\n",
       "      <td>NaN</td>\n",
       "      <td>NaN</td>\n",
       "    </tr>\n",
       "  </tbody>\n",
       "</table>\n",
       "</div>"
      ],
      "text/plain": [
       "                  price         year manufacturer condition    cylinders  \\\n",
       "count          426880.0     425675.0       409234    252776       249202   \n",
       "unique             <NA>         <NA>           42         6            8   \n",
       "top                <NA>         <NA>         ford      good  6 cylinders   \n",
       "freq               <NA>         <NA>        70985    121456        94169   \n",
       "mean       75199.033187  2011.235191          NaN       NaN          NaN   \n",
       "std     12182282.173598      9.45212          NaN       NaN          NaN   \n",
       "min                 0.0       1900.0          NaN       NaN          NaN   \n",
       "25%              5900.0       2008.0          NaN       NaN          NaN   \n",
       "50%             13950.0       2013.0          NaN       NaN          NaN   \n",
       "75%            26485.75       2017.0          NaN       NaN          NaN   \n",
       "max        3736928711.0       2022.0          NaN       NaN          NaN   \n",
       "\n",
       "          fuel       odometer transmission   drive    type paint_color  \n",
       "count   423867       422480.0       424324  296313  334022      296677  \n",
       "unique       5           <NA>            3       3      13          12  \n",
       "top        gas           <NA>    automatic     4wd   sedan       white  \n",
       "freq    356209           <NA>       336524  131904   87056       79285  \n",
       "mean       NaN   98043.331443          NaN     NaN     NaN         NaN  \n",
       "std        NaN  213881.500798          NaN     NaN     NaN         NaN  \n",
       "min        NaN            0.0          NaN     NaN     NaN         NaN  \n",
       "25%        NaN        37704.0          NaN     NaN     NaN         NaN  \n",
       "50%        NaN        85548.0          NaN     NaN     NaN         NaN  \n",
       "75%        NaN       133542.5          NaN     NaN     NaN         NaN  \n",
       "max        NaN     10000000.0          NaN     NaN     NaN         NaN  "
      ]
     },
     "execution_count": 842,
     "metadata": {},
     "output_type": "execute_result"
    }
   ],
   "source": [
    "#UsedCar_data = UsedCar_data.dropna()\n",
    "\n",
    "UsedCar_data_Rev2.describe(include= ['string','int64'])\n"
   ]
  },
  {
   "cell_type": "code",
   "execution_count": 843,
   "metadata": {},
   "outputs": [
    {
     "data": {
      "text/html": [
       "<div>\n",
       "<style scoped>\n",
       "    .dataframe tbody tr th:only-of-type {\n",
       "        vertical-align: middle;\n",
       "    }\n",
       "\n",
       "    .dataframe tbody tr th {\n",
       "        vertical-align: top;\n",
       "    }\n",
       "\n",
       "    .dataframe thead th {\n",
       "        text-align: right;\n",
       "    }\n",
       "</style>\n",
       "<table border=\"1\" class=\"dataframe\">\n",
       "  <thead>\n",
       "    <tr style=\"text-align: right;\">\n",
       "      <th></th>\n",
       "      <th>price</th>\n",
       "      <th>year</th>\n",
       "      <th>manufacturer</th>\n",
       "      <th>condition</th>\n",
       "      <th>cylinders</th>\n",
       "      <th>fuel</th>\n",
       "      <th>odometer</th>\n",
       "      <th>transmission</th>\n",
       "      <th>drive</th>\n",
       "      <th>type</th>\n",
       "      <th>paint_color</th>\n",
       "    </tr>\n",
       "  </thead>\n",
       "  <tbody>\n",
       "    <tr>\n",
       "      <th>count</th>\n",
       "      <td>393985.0</td>\n",
       "      <td>392812.0</td>\n",
       "      <td>377800</td>\n",
       "      <td>242596</td>\n",
       "      <td>233575</td>\n",
       "      <td>391391</td>\n",
       "      <td>391695.0</td>\n",
       "      <td>392162</td>\n",
       "      <td>273731</td>\n",
       "      <td>308053</td>\n",
       "      <td>276836</td>\n",
       "    </tr>\n",
       "    <tr>\n",
       "      <th>unique</th>\n",
       "      <td>&lt;NA&gt;</td>\n",
       "      <td>&lt;NA&gt;</td>\n",
       "      <td>42</td>\n",
       "      <td>6</td>\n",
       "      <td>8</td>\n",
       "      <td>5</td>\n",
       "      <td>&lt;NA&gt;</td>\n",
       "      <td>3</td>\n",
       "      <td>3</td>\n",
       "      <td>13</td>\n",
       "      <td>12</td>\n",
       "    </tr>\n",
       "    <tr>\n",
       "      <th>top</th>\n",
       "      <td>&lt;NA&gt;</td>\n",
       "      <td>&lt;NA&gt;</td>\n",
       "      <td>ford</td>\n",
       "      <td>good</td>\n",
       "      <td>6 cylinders</td>\n",
       "      <td>gas</td>\n",
       "      <td>&lt;NA&gt;</td>\n",
       "      <td>automatic</td>\n",
       "      <td>4wd</td>\n",
       "      <td>sedan</td>\n",
       "      <td>white</td>\n",
       "    </tr>\n",
       "    <tr>\n",
       "      <th>freq</th>\n",
       "      <td>&lt;NA&gt;</td>\n",
       "      <td>&lt;NA&gt;</td>\n",
       "      <td>64855</td>\n",
       "      <td>119155</td>\n",
       "      <td>88847</td>\n",
       "      <td>330431</td>\n",
       "      <td>&lt;NA&gt;</td>\n",
       "      <td>306811</td>\n",
       "      <td>120671</td>\n",
       "      <td>80322</td>\n",
       "      <td>72860</td>\n",
       "    </tr>\n",
       "    <tr>\n",
       "      <th>mean</th>\n",
       "      <td>81477.628049</td>\n",
       "      <td>2011.006115</td>\n",
       "      <td>NaN</td>\n",
       "      <td>NaN</td>\n",
       "      <td>NaN</td>\n",
       "      <td>NaN</td>\n",
       "      <td>98729.511212</td>\n",
       "      <td>NaN</td>\n",
       "      <td>NaN</td>\n",
       "      <td>NaN</td>\n",
       "      <td>NaN</td>\n",
       "    </tr>\n",
       "    <tr>\n",
       "      <th>std</th>\n",
       "      <td>12680636.885189</td>\n",
       "      <td>9.630905</td>\n",
       "      <td>NaN</td>\n",
       "      <td>NaN</td>\n",
       "      <td>NaN</td>\n",
       "      <td>NaN</td>\n",
       "      <td>205915.785742</td>\n",
       "      <td>NaN</td>\n",
       "      <td>NaN</td>\n",
       "      <td>NaN</td>\n",
       "      <td>NaN</td>\n",
       "    </tr>\n",
       "    <tr>\n",
       "      <th>min</th>\n",
       "      <td>1.0</td>\n",
       "      <td>1900.0</td>\n",
       "      <td>NaN</td>\n",
       "      <td>NaN</td>\n",
       "      <td>NaN</td>\n",
       "      <td>NaN</td>\n",
       "      <td>0.0</td>\n",
       "      <td>NaN</td>\n",
       "      <td>NaN</td>\n",
       "      <td>NaN</td>\n",
       "      <td>NaN</td>\n",
       "    </tr>\n",
       "    <tr>\n",
       "      <th>25%</th>\n",
       "      <td>7000.0</td>\n",
       "      <td>2008.0</td>\n",
       "      <td>NaN</td>\n",
       "      <td>NaN</td>\n",
       "      <td>NaN</td>\n",
       "      <td>NaN</td>\n",
       "      <td>38000.0</td>\n",
       "      <td>NaN</td>\n",
       "      <td>NaN</td>\n",
       "      <td>NaN</td>\n",
       "      <td>NaN</td>\n",
       "    </tr>\n",
       "    <tr>\n",
       "      <th>50%</th>\n",
       "      <td>15000.0</td>\n",
       "      <td>2013.0</td>\n",
       "      <td>NaN</td>\n",
       "      <td>NaN</td>\n",
       "      <td>NaN</td>\n",
       "      <td>NaN</td>\n",
       "      <td>87000.0</td>\n",
       "      <td>NaN</td>\n",
       "      <td>NaN</td>\n",
       "      <td>NaN</td>\n",
       "      <td>NaN</td>\n",
       "    </tr>\n",
       "    <tr>\n",
       "      <th>75%</th>\n",
       "      <td>27590.0</td>\n",
       "      <td>2017.0</td>\n",
       "      <td>NaN</td>\n",
       "      <td>NaN</td>\n",
       "      <td>NaN</td>\n",
       "      <td>NaN</td>\n",
       "      <td>135334.0</td>\n",
       "      <td>NaN</td>\n",
       "      <td>NaN</td>\n",
       "      <td>NaN</td>\n",
       "      <td>NaN</td>\n",
       "    </tr>\n",
       "    <tr>\n",
       "      <th>max</th>\n",
       "      <td>3736928711.0</td>\n",
       "      <td>2022.0</td>\n",
       "      <td>NaN</td>\n",
       "      <td>NaN</td>\n",
       "      <td>NaN</td>\n",
       "      <td>NaN</td>\n",
       "      <td>10000000.0</td>\n",
       "      <td>NaN</td>\n",
       "      <td>NaN</td>\n",
       "      <td>NaN</td>\n",
       "      <td>NaN</td>\n",
       "    </tr>\n",
       "  </tbody>\n",
       "</table>\n",
       "</div>"
      ],
      "text/plain": [
       "                  price         year manufacturer condition    cylinders  \\\n",
       "count          393985.0     392812.0       377800    242596       233575   \n",
       "unique             <NA>         <NA>           42         6            8   \n",
       "top                <NA>         <NA>         ford      good  6 cylinders   \n",
       "freq               <NA>         <NA>        64855    119155        88847   \n",
       "mean       81477.628049  2011.006115          NaN       NaN          NaN   \n",
       "std     12680636.885189     9.630905          NaN       NaN          NaN   \n",
       "min                 1.0       1900.0          NaN       NaN          NaN   \n",
       "25%              7000.0       2008.0          NaN       NaN          NaN   \n",
       "50%             15000.0       2013.0          NaN       NaN          NaN   \n",
       "75%             27590.0       2017.0          NaN       NaN          NaN   \n",
       "max        3736928711.0       2022.0          NaN       NaN          NaN   \n",
       "\n",
       "          fuel       odometer transmission   drive    type paint_color  \n",
       "count   391391       391695.0       392162  273731  308053      276836  \n",
       "unique       5           <NA>            3       3      13          12  \n",
       "top        gas           <NA>    automatic     4wd   sedan       white  \n",
       "freq    330431           <NA>       306811  120671   80322       72860  \n",
       "mean       NaN   98729.511212          NaN     NaN     NaN         NaN  \n",
       "std        NaN  205915.785742          NaN     NaN     NaN         NaN  \n",
       "min        NaN            0.0          NaN     NaN     NaN         NaN  \n",
       "25%        NaN        38000.0          NaN     NaN     NaN         NaN  \n",
       "50%        NaN        87000.0          NaN     NaN     NaN         NaN  \n",
       "75%        NaN       135334.0          NaN     NaN     NaN         NaN  \n",
       "max        NaN     10000000.0          NaN     NaN     NaN         NaN  "
      ]
     },
     "execution_count": 843,
     "metadata": {},
     "output_type": "execute_result"
    }
   ],
   "source": [
    "UsedCar_data_Rev2.drop(UsedCar_data_Rev2.loc[UsedCar_data_Rev2['price']==0].index, inplace=True)\n",
    "UsedCar_data_Rev2.describe(include= ['string','int64'])"
   ]
  },
  {
   "cell_type": "code",
   "execution_count": 844,
   "metadata": {},
   "outputs": [
    {
     "data": {
      "text/html": [
       "<div>\n",
       "<style scoped>\n",
       "    .dataframe tbody tr th:only-of-type {\n",
       "        vertical-align: middle;\n",
       "    }\n",
       "\n",
       "    .dataframe tbody tr th {\n",
       "        vertical-align: top;\n",
       "    }\n",
       "\n",
       "    .dataframe thead th {\n",
       "        text-align: right;\n",
       "    }\n",
       "</style>\n",
       "<table border=\"1\" class=\"dataframe\">\n",
       "  <thead>\n",
       "    <tr style=\"text-align: right;\">\n",
       "      <th></th>\n",
       "      <th>features</th>\n",
       "      <th>dtypes</th>\n",
       "      <th>NaN count</th>\n",
       "      <th>NaN percentage</th>\n",
       "    </tr>\n",
       "  </thead>\n",
       "  <tbody>\n",
       "    <tr>\n",
       "      <th>0</th>\n",
       "      <td>price</td>\n",
       "      <td>Int64</td>\n",
       "      <td>0</td>\n",
       "      <td>0.000000</td>\n",
       "    </tr>\n",
       "    <tr>\n",
       "      <th>1</th>\n",
       "      <td>year</td>\n",
       "      <td>Int64</td>\n",
       "      <td>1173</td>\n",
       "      <td>0.002977</td>\n",
       "    </tr>\n",
       "    <tr>\n",
       "      <th>2</th>\n",
       "      <td>manufacturer</td>\n",
       "      <td>string</td>\n",
       "      <td>16185</td>\n",
       "      <td>0.041080</td>\n",
       "    </tr>\n",
       "    <tr>\n",
       "      <th>3</th>\n",
       "      <td>condition</td>\n",
       "      <td>string</td>\n",
       "      <td>151389</td>\n",
       "      <td>0.384251</td>\n",
       "    </tr>\n",
       "    <tr>\n",
       "      <th>4</th>\n",
       "      <td>cylinders</td>\n",
       "      <td>string</td>\n",
       "      <td>160410</td>\n",
       "      <td>0.407147</td>\n",
       "    </tr>\n",
       "    <tr>\n",
       "      <th>5</th>\n",
       "      <td>fuel</td>\n",
       "      <td>string</td>\n",
       "      <td>2594</td>\n",
       "      <td>0.006584</td>\n",
       "    </tr>\n",
       "    <tr>\n",
       "      <th>6</th>\n",
       "      <td>odometer</td>\n",
       "      <td>Int64</td>\n",
       "      <td>2290</td>\n",
       "      <td>0.005812</td>\n",
       "    </tr>\n",
       "    <tr>\n",
       "      <th>7</th>\n",
       "      <td>transmission</td>\n",
       "      <td>string</td>\n",
       "      <td>1823</td>\n",
       "      <td>0.004627</td>\n",
       "    </tr>\n",
       "    <tr>\n",
       "      <th>8</th>\n",
       "      <td>drive</td>\n",
       "      <td>string</td>\n",
       "      <td>120254</td>\n",
       "      <td>0.305225</td>\n",
       "    </tr>\n",
       "    <tr>\n",
       "      <th>9</th>\n",
       "      <td>type</td>\n",
       "      <td>string</td>\n",
       "      <td>85932</td>\n",
       "      <td>0.218110</td>\n",
       "    </tr>\n",
       "    <tr>\n",
       "      <th>10</th>\n",
       "      <td>paint_color</td>\n",
       "      <td>string</td>\n",
       "      <td>117149</td>\n",
       "      <td>0.297344</td>\n",
       "    </tr>\n",
       "  </tbody>\n",
       "</table>\n",
       "</div>"
      ],
      "text/plain": [
       "        features  dtypes  NaN count  NaN percentage\n",
       "0          price   Int64          0        0.000000\n",
       "1           year   Int64       1173        0.002977\n",
       "2   manufacturer  string      16185        0.041080\n",
       "3      condition  string     151389        0.384251\n",
       "4      cylinders  string     160410        0.407147\n",
       "5           fuel  string       2594        0.006584\n",
       "6       odometer   Int64       2290        0.005812\n",
       "7   transmission  string       1823        0.004627\n",
       "8          drive  string     120254        0.305225\n",
       "9           type  string      85932        0.218110\n",
       "10   paint_color  string     117149        0.297344"
      ]
     },
     "execution_count": 844,
     "metadata": {},
     "output_type": "execute_result"
    }
   ],
   "source": [
    "\n",
    "\n",
    "df=open('OutPut_nan.txt','w')\n",
    "nan_Data = pd.DataFrame({'features': UsedCar_data_Rev2.columns,\n",
    "               'dtypes': UsedCar_data_Rev2.dtypes.values,\n",
    "               'NaN count': UsedCar_data_Rev2.isnull().sum().values,\n",
    "               'NaN percentage': UsedCar_data_Rev2.isnull().sum().values/UsedCar_data_Rev2.shape[0]})\n",
    "df.write(nan_Data.to_markdown())\n",
    "df.close()\n",
    "nan_Data\n",
    "\n"
   ]
  },
  {
   "cell_type": "code",
   "execution_count": 845,
   "metadata": {},
   "outputs": [
    {
     "name": "stdout",
     "output_type": "stream",
     "text": [
      "price                0\n",
      "year              1111\n",
      "manufacturer     16123\n",
      "condition       151327\n",
      "cylinders       160348\n",
      "fuel              2532\n",
      "odometer          2228\n",
      "transmission      1761\n",
      "drive           120192\n",
      "type             85870\n",
      "paint_color     117087\n",
      "dtype: int64\n"
     ]
    }
   ],
   "source": [
    "UsedCar_data_r2 = UsedCar_data_Rev2.dropna(thresh=2)\n",
    "# nan_count = UsedCar_data_r2.isna().sum()\n",
    "# print(nan_count)\n",
    "\n",
    "\n",
    "nan_count = UsedCar_data_r2.isna().sum()\n",
    "print(nan_count)"
   ]
  },
  {
   "cell_type": "code",
   "execution_count": 846,
   "metadata": {},
   "outputs": [
    {
     "data": {
      "text/plain": [
       "1111"
      ]
     },
     "execution_count": 846,
     "metadata": {},
     "output_type": "execute_result"
    }
   ],
   "source": [
    "UsedCar_data_r2['year'].isna().sum()\n"
   ]
  },
  {
   "cell_type": "code",
   "execution_count": 847,
   "metadata": {},
   "outputs": [
    {
     "data": {
      "text/html": [
       "<div>\n",
       "<style scoped>\n",
       "    .dataframe tbody tr th:only-of-type {\n",
       "        vertical-align: middle;\n",
       "    }\n",
       "\n",
       "    .dataframe tbody tr th {\n",
       "        vertical-align: top;\n",
       "    }\n",
       "\n",
       "    .dataframe thead th {\n",
       "        text-align: right;\n",
       "    }\n",
       "</style>\n",
       "<table border=\"1\" class=\"dataframe\">\n",
       "  <thead>\n",
       "    <tr style=\"text-align: right;\">\n",
       "      <th></th>\n",
       "      <th>features</th>\n",
       "      <th>dtypes</th>\n",
       "      <th>NaN count</th>\n",
       "      <th>NaN percentage</th>\n",
       "    </tr>\n",
       "  </thead>\n",
       "  <tbody>\n",
       "    <tr>\n",
       "      <th>0</th>\n",
       "      <td>price</td>\n",
       "      <td>Int64</td>\n",
       "      <td>0</td>\n",
       "      <td>0.000000</td>\n",
       "    </tr>\n",
       "    <tr>\n",
       "      <th>1</th>\n",
       "      <td>year</td>\n",
       "      <td>Int64</td>\n",
       "      <td>1111</td>\n",
       "      <td>0.002820</td>\n",
       "    </tr>\n",
       "    <tr>\n",
       "      <th>2</th>\n",
       "      <td>manufacturer</td>\n",
       "      <td>string</td>\n",
       "      <td>16123</td>\n",
       "      <td>0.040923</td>\n",
       "    </tr>\n",
       "    <tr>\n",
       "      <th>3</th>\n",
       "      <td>condition</td>\n",
       "      <td>string</td>\n",
       "      <td>151327</td>\n",
       "      <td>0.384093</td>\n",
       "    </tr>\n",
       "    <tr>\n",
       "      <th>4</th>\n",
       "      <td>cylinders</td>\n",
       "      <td>string</td>\n",
       "      <td>160348</td>\n",
       "      <td>0.406990</td>\n",
       "    </tr>\n",
       "    <tr>\n",
       "      <th>5</th>\n",
       "      <td>fuel</td>\n",
       "      <td>string</td>\n",
       "      <td>2532</td>\n",
       "      <td>0.006427</td>\n",
       "    </tr>\n",
       "    <tr>\n",
       "      <th>6</th>\n",
       "      <td>odometer</td>\n",
       "      <td>Int64</td>\n",
       "      <td>2228</td>\n",
       "      <td>0.005655</td>\n",
       "    </tr>\n",
       "    <tr>\n",
       "      <th>7</th>\n",
       "      <td>transmission</td>\n",
       "      <td>string</td>\n",
       "      <td>1761</td>\n",
       "      <td>0.004470</td>\n",
       "    </tr>\n",
       "    <tr>\n",
       "      <th>8</th>\n",
       "      <td>drive</td>\n",
       "      <td>string</td>\n",
       "      <td>120192</td>\n",
       "      <td>0.305067</td>\n",
       "    </tr>\n",
       "    <tr>\n",
       "      <th>9</th>\n",
       "      <td>type</td>\n",
       "      <td>string</td>\n",
       "      <td>85870</td>\n",
       "      <td>0.217952</td>\n",
       "    </tr>\n",
       "    <tr>\n",
       "      <th>10</th>\n",
       "      <td>paint_color</td>\n",
       "      <td>string</td>\n",
       "      <td>117087</td>\n",
       "      <td>0.297186</td>\n",
       "    </tr>\n",
       "  </tbody>\n",
       "</table>\n",
       "</div>"
      ],
      "text/plain": [
       "        features  dtypes  NaN count  NaN percentage\n",
       "0          price   Int64          0        0.000000\n",
       "1           year   Int64       1111        0.002820\n",
       "2   manufacturer  string      16123        0.040923\n",
       "3      condition  string     151327        0.384093\n",
       "4      cylinders  string     160348        0.406990\n",
       "5           fuel  string       2532        0.006427\n",
       "6       odometer   Int64       2228        0.005655\n",
       "7   transmission  string       1761        0.004470\n",
       "8          drive  string     120192        0.305067\n",
       "9           type  string      85870        0.217952\n",
       "10   paint_color  string     117087        0.297186"
      ]
     },
     "execution_count": 847,
     "metadata": {},
     "output_type": "execute_result"
    }
   ],
   "source": [
    "nan_Data = pd.DataFrame({'features': UsedCar_data_r2.columns,\n",
    "               'dtypes': UsedCar_data_r2.dtypes.values,\n",
    "               'NaN count': UsedCar_data_r2.isnull().sum().values,\n",
    "               'NaN percentage': UsedCar_data_r2.isnull().sum().values/UsedCar_data_Rev2.shape[0]})\n",
    "nan_Data"
   ]
  },
  {
   "cell_type": "code",
   "execution_count": 848,
   "metadata": {},
   "outputs": [],
   "source": [
    "\n",
    "\n",
    "UsedCar_data_r2=UsedCar_data_r2.dropna(subset=['year','odometer'])\n",
    "\n",
    "\n",
    "\n",
    "\n",
    "\n"
   ]
  },
  {
   "cell_type": "code",
   "execution_count": 849,
   "metadata": {},
   "outputs": [
    {
     "data": {
      "text/html": [
       "<div>\n",
       "<style scoped>\n",
       "    .dataframe tbody tr th:only-of-type {\n",
       "        vertical-align: middle;\n",
       "    }\n",
       "\n",
       "    .dataframe tbody tr th {\n",
       "        vertical-align: top;\n",
       "    }\n",
       "\n",
       "    .dataframe thead th {\n",
       "        text-align: right;\n",
       "    }\n",
       "</style>\n",
       "<table border=\"1\" class=\"dataframe\">\n",
       "  <thead>\n",
       "    <tr style=\"text-align: right;\">\n",
       "      <th></th>\n",
       "      <th>features</th>\n",
       "      <th>dtypes</th>\n",
       "      <th>NaN count</th>\n",
       "      <th>NaN percentage</th>\n",
       "    </tr>\n",
       "  </thead>\n",
       "  <tbody>\n",
       "    <tr>\n",
       "      <th>0</th>\n",
       "      <td>price</td>\n",
       "      <td>Int64</td>\n",
       "      <td>0</td>\n",
       "      <td>0.000000</td>\n",
       "    </tr>\n",
       "    <tr>\n",
       "      <th>1</th>\n",
       "      <td>year</td>\n",
       "      <td>Int64</td>\n",
       "      <td>0</td>\n",
       "      <td>0.000000</td>\n",
       "    </tr>\n",
       "    <tr>\n",
       "      <th>2</th>\n",
       "      <td>manufacturer</td>\n",
       "      <td>string</td>\n",
       "      <td>14966</td>\n",
       "      <td>0.037986</td>\n",
       "    </tr>\n",
       "    <tr>\n",
       "      <th>3</th>\n",
       "      <td>condition</td>\n",
       "      <td>string</td>\n",
       "      <td>149408</td>\n",
       "      <td>0.379223</td>\n",
       "    </tr>\n",
       "    <tr>\n",
       "      <th>4</th>\n",
       "      <td>cylinders</td>\n",
       "      <td>string</td>\n",
       "      <td>159172</td>\n",
       "      <td>0.404005</td>\n",
       "    </tr>\n",
       "    <tr>\n",
       "      <th>5</th>\n",
       "      <td>fuel</td>\n",
       "      <td>string</td>\n",
       "      <td>2126</td>\n",
       "      <td>0.005396</td>\n",
       "    </tr>\n",
       "    <tr>\n",
       "      <th>6</th>\n",
       "      <td>odometer</td>\n",
       "      <td>Int64</td>\n",
       "      <td>0</td>\n",
       "      <td>0.000000</td>\n",
       "    </tr>\n",
       "    <tr>\n",
       "      <th>7</th>\n",
       "      <td>transmission</td>\n",
       "      <td>string</td>\n",
       "      <td>1520</td>\n",
       "      <td>0.003858</td>\n",
       "    </tr>\n",
       "    <tr>\n",
       "      <th>8</th>\n",
       "      <td>drive</td>\n",
       "      <td>string</td>\n",
       "      <td>119510</td>\n",
       "      <td>0.303336</td>\n",
       "    </tr>\n",
       "    <tr>\n",
       "      <th>9</th>\n",
       "      <td>type</td>\n",
       "      <td>string</td>\n",
       "      <td>85337</td>\n",
       "      <td>0.216600</td>\n",
       "    </tr>\n",
       "    <tr>\n",
       "      <th>10</th>\n",
       "      <td>paint_color</td>\n",
       "      <td>string</td>\n",
       "      <td>116031</td>\n",
       "      <td>0.294506</td>\n",
       "    </tr>\n",
       "  </tbody>\n",
       "</table>\n",
       "</div>"
      ],
      "text/plain": [
       "        features  dtypes  NaN count  NaN percentage\n",
       "0          price   Int64          0        0.000000\n",
       "1           year   Int64          0        0.000000\n",
       "2   manufacturer  string      14966        0.037986\n",
       "3      condition  string     149408        0.379223\n",
       "4      cylinders  string     159172        0.404005\n",
       "5           fuel  string       2126        0.005396\n",
       "6       odometer   Int64          0        0.000000\n",
       "7   transmission  string       1520        0.003858\n",
       "8          drive  string     119510        0.303336\n",
       "9           type  string      85337        0.216600\n",
       "10   paint_color  string     116031        0.294506"
      ]
     },
     "execution_count": 849,
     "metadata": {},
     "output_type": "execute_result"
    }
   ],
   "source": [
    "nan_Data = pd.DataFrame({'features': UsedCar_data_r2.columns,\n",
    "               'dtypes': UsedCar_data_r2.dtypes.values,\n",
    "               'NaN count': UsedCar_data_r2.isnull().sum().values,\n",
    "               'NaN percentage': UsedCar_data_r2.isnull().sum().values/UsedCar_data_Rev2.shape[0]})\n",
    "nan_Data"
   ]
  },
  {
   "cell_type": "code",
   "execution_count": 850,
   "metadata": {},
   "outputs": [
    {
     "name": "stdout",
     "output_type": "stream",
     "text": [
      "price                0\n",
      "year                 0\n",
      "manufacturer     14966\n",
      "condition       149408\n",
      "cylinders       159172\n",
      "fuel              2126\n",
      "odometer             0\n",
      "transmission      1520\n",
      "drive           119510\n",
      "type             85337\n",
      "paint_color     116031\n",
      "dtype: int64\n"
     ]
    }
   ],
   "source": [
    "nan_count = UsedCar_data_r2.isna().sum()\n",
    "print(nan_count)"
   ]
  },
  {
   "cell_type": "code",
   "execution_count": 851,
   "metadata": {},
   "outputs": [],
   "source": [
    "\n",
    "UsedCar_data_r2.loc[UsedCar_data_r2['year'].isnull(),'year'] = 0\n",
    "UsedCar_data_r2.loc[UsedCar_data_r2['odometer'].isnull(),'odometer'] = 0\n",
    "\n",
    "\n",
    "\n",
    "UsedCar_data_r2.loc[UsedCar_data_r2['transmission'].isnull(),'transmission'] = 'NaN_tran'\n",
    "UsedCar_data_r2.loc[UsedCar_data_r2['condition'].isnull(),'condition'] = 'salvage'\n",
    "UsedCar_data_r2.loc[UsedCar_data_r2['type'].isnull(),'type'] = 'NaN_type'\n",
    "UsedCar_data_r2.loc[UsedCar_data_r2['manufacturer'].isnull(),'manufacturer'] = 'Unknown_man'\n",
    "UsedCar_data_r2.loc[UsedCar_data_r2['cylinders'].isnull(),'cylinders'] = 'NaN_cylinders'\n",
    "UsedCar_data_r2.loc[UsedCar_data_r2['fuel'].isnull(),'fuel'] = 'NaN_fuel'\n",
    "\n",
    "UsedCar_data_r2.loc[UsedCar_data_r2['drive'].isnull(),'drive'] = 'NaN_drive'\n",
    "UsedCar_data_r2.loc[UsedCar_data_r2['paint_color'].isnull(),'paint_color'] = 'NaN_paint_color'"
   ]
  },
  {
   "cell_type": "code",
   "execution_count": 852,
   "metadata": {},
   "outputs": [
    {
     "data": {
      "text/html": [
       "<div>\n",
       "<style scoped>\n",
       "    .dataframe tbody tr th:only-of-type {\n",
       "        vertical-align: middle;\n",
       "    }\n",
       "\n",
       "    .dataframe tbody tr th {\n",
       "        vertical-align: top;\n",
       "    }\n",
       "\n",
       "    .dataframe thead th {\n",
       "        text-align: right;\n",
       "    }\n",
       "</style>\n",
       "<table border=\"1\" class=\"dataframe\">\n",
       "  <thead>\n",
       "    <tr style=\"text-align: right;\">\n",
       "      <th></th>\n",
       "      <th>features</th>\n",
       "      <th>dtypes</th>\n",
       "      <th>NaN count</th>\n",
       "      <th>NaN percentage</th>\n",
       "    </tr>\n",
       "  </thead>\n",
       "  <tbody>\n",
       "    <tr>\n",
       "      <th>0</th>\n",
       "      <td>price</td>\n",
       "      <td>Int64</td>\n",
       "      <td>0</td>\n",
       "      <td>0.0</td>\n",
       "    </tr>\n",
       "    <tr>\n",
       "      <th>1</th>\n",
       "      <td>year</td>\n",
       "      <td>Int64</td>\n",
       "      <td>0</td>\n",
       "      <td>0.0</td>\n",
       "    </tr>\n",
       "    <tr>\n",
       "      <th>2</th>\n",
       "      <td>manufacturer</td>\n",
       "      <td>string</td>\n",
       "      <td>0</td>\n",
       "      <td>0.0</td>\n",
       "    </tr>\n",
       "    <tr>\n",
       "      <th>3</th>\n",
       "      <td>condition</td>\n",
       "      <td>string</td>\n",
       "      <td>0</td>\n",
       "      <td>0.0</td>\n",
       "    </tr>\n",
       "    <tr>\n",
       "      <th>4</th>\n",
       "      <td>cylinders</td>\n",
       "      <td>string</td>\n",
       "      <td>0</td>\n",
       "      <td>0.0</td>\n",
       "    </tr>\n",
       "    <tr>\n",
       "      <th>5</th>\n",
       "      <td>fuel</td>\n",
       "      <td>string</td>\n",
       "      <td>0</td>\n",
       "      <td>0.0</td>\n",
       "    </tr>\n",
       "    <tr>\n",
       "      <th>6</th>\n",
       "      <td>odometer</td>\n",
       "      <td>Int64</td>\n",
       "      <td>0</td>\n",
       "      <td>0.0</td>\n",
       "    </tr>\n",
       "    <tr>\n",
       "      <th>7</th>\n",
       "      <td>transmission</td>\n",
       "      <td>string</td>\n",
       "      <td>0</td>\n",
       "      <td>0.0</td>\n",
       "    </tr>\n",
       "    <tr>\n",
       "      <th>8</th>\n",
       "      <td>drive</td>\n",
       "      <td>string</td>\n",
       "      <td>0</td>\n",
       "      <td>0.0</td>\n",
       "    </tr>\n",
       "    <tr>\n",
       "      <th>9</th>\n",
       "      <td>type</td>\n",
       "      <td>string</td>\n",
       "      <td>0</td>\n",
       "      <td>0.0</td>\n",
       "    </tr>\n",
       "    <tr>\n",
       "      <th>10</th>\n",
       "      <td>paint_color</td>\n",
       "      <td>string</td>\n",
       "      <td>0</td>\n",
       "      <td>0.0</td>\n",
       "    </tr>\n",
       "  </tbody>\n",
       "</table>\n",
       "</div>"
      ],
      "text/plain": [
       "        features  dtypes  NaN count  NaN percentage\n",
       "0          price   Int64          0             0.0\n",
       "1           year   Int64          0             0.0\n",
       "2   manufacturer  string          0             0.0\n",
       "3      condition  string          0             0.0\n",
       "4      cylinders  string          0             0.0\n",
       "5           fuel  string          0             0.0\n",
       "6       odometer   Int64          0             0.0\n",
       "7   transmission  string          0             0.0\n",
       "8          drive  string          0             0.0\n",
       "9           type  string          0             0.0\n",
       "10   paint_color  string          0             0.0"
      ]
     },
     "execution_count": 852,
     "metadata": {},
     "output_type": "execute_result"
    }
   ],
   "source": [
    "nan_Data = pd.DataFrame({'features': UsedCar_data_r2.columns,\n",
    "               'dtypes': UsedCar_data_r2.dtypes.values,\n",
    "               'NaN count': UsedCar_data_r2.isnull().sum().values,\n",
    "               'NaN percentage': UsedCar_data_r2.isnull().sum().values/UsedCar_data_Rev2.shape[0]})\n",
    "nan_Data"
   ]
  },
  {
   "cell_type": "code",
   "execution_count": 877,
   "metadata": {},
   "outputs": [
    {
     "data": {
      "image/png": "[encoded data removed]",
      "text/plain": [
       "<Figure size 2000x1500 with 1 Axes>"
      ]
     },
     "metadata": {},
     "output_type": "display_data"
    }
   ],
   "source": [
    "\n",
    "plt.figure(figsize = (20, 15))\n",
    "sns.countplot(y = UsedCar_data_r2.year)\n",
    "plt.title(\"Numbers of Car data for given year make\", fontsize = 20)\n",
    "plt.savefig('#_of_cars_In_a _given_year.jpg', bbox_inches='tight')\n",
    "plt.show()\n",
    "\n",
    "\n"
   ]
  },
  {
   "attachments": {},
   "cell_type": "markdown",
   "metadata": {},
   "source": [
    "sns.countplot(y = UsedCar_data_r2.year) showed that there are not many cars under the year 1995, so it would help to drop them"
   ]
  },
  {
   "cell_type": "code",
   "execution_count": 878,
   "metadata": {},
   "outputs": [
    {
     "data": {
      "image/png": "[encoded data removed]",
      "text/plain": [
       "<Figure size 2000x1500 with 1 Axes>"
      ]
     },
     "metadata": {},
     "output_type": "display_data"
    }
   ],
   "source": [
    "\n",
    "\n",
    "UsedCar_data_r2 = UsedCar_data_r2.loc[UsedCar_data_r2[\"year\"] > 1995 ]\n",
    "#UsedCar_data_r3 = UsedCar_data_r2[UsedCar_data_r2['year'] > 1995] \n",
    "\n",
    "\n",
    "plt.figure(figsize = (20, 15))\n",
    "sns.countplot(y = UsedCar_data_r2.year)\n",
    "plt.title(\"Numbers of Car data for given year make\", fontsize = 20)\n",
    "plt.show()"
   ]
  },
  {
   "cell_type": "code",
   "execution_count": 855,
   "metadata": {},
   "outputs": [
    {
     "name": "stdout",
     "output_type": "stream",
     "text": [
      "<class 'pandas.core.frame.DataFrame'>\n",
      "Int64Index: 373783 entries, 27 to 426879\n",
      "Data columns (total 11 columns):\n",
      " #   Column        Non-Null Count   Dtype \n",
      "---  ------        --------------   ----- \n",
      " 0   price         373783 non-null  Int64 \n",
      " 1   year          373783 non-null  Int64 \n",
      " 2   manufacturer  373783 non-null  string\n",
      " 3   condition     373783 non-null  string\n",
      " 4   cylinders     373783 non-null  string\n",
      " 5   fuel          373783 non-null  string\n",
      " 6   odometer      373783 non-null  Int64 \n",
      " 7   transmission  373783 non-null  string\n",
      " 8   drive         373783 non-null  string\n",
      " 9   type          373783 non-null  string\n",
      " 10  paint_color   373783 non-null  string\n",
      "dtypes: Int64(3), string(8)\n",
      "memory usage: 35.3 MB\n"
     ]
    }
   ],
   "source": [
    "UsedCar_data_r2.info()"
   ]
  },
  {
   "cell_type": "code",
   "execution_count": 856,
   "metadata": {},
   "outputs": [
    {
     "data": {
      "image/png": "[encoded data removed]",
      "text/plain": [
       "<Figure size 2000x1500 with 1 Axes>"
      ]
     },
     "metadata": {},
     "output_type": "display_data"
    }
   ],
   "source": [
    "plt.figure(figsize = (20, 15))\n",
    "sns.countplot(y = UsedCar_data_r2.type)\n",
    "plt.title(\"Numbers of Car data for given type\", fontsize = 20)\n",
    "plt.show()\n"
   ]
  },
  {
   "attachments": {},
   "cell_type": "markdown",
   "metadata": {},
   "source": [
    "Based on the result drop the rows for type = ['pickup' 'truck' 'other' 'coupe' 'SUV' 'hatchback' 'mini-van' 'sedan' 'van' 'convertible' 'wagon']"
   ]
  },
  {
   "cell_type": "code",
   "execution_count": 857,
   "metadata": {},
   "outputs": [
    {
     "data": {
      "image/png": "[encoded data removed]",
      "text/plain": [
       "<Figure size 2000x1500 with 1 Axes>"
      ]
     },
     "metadata": {},
     "output_type": "display_data"
    }
   ],
   "source": [
    "#print(UsedCar_data_r2[\"type\"].unique())\n",
    "UsedCar_data_r2 = UsedCar_data_r2.loc[UsedCar_data_r2[\"type\"].isin(['pickup', 'truck', 'coupe', 'SUV' ,'hatchback', 'mini-van', 'sedan', 'van' ,'convertible', 'wagon'])]\n",
    "plt.figure(figsize = (20, 15))\n",
    "sns.countplot(y = UsedCar_data_r2.type)\n",
    "plt.title(\"Numbers of Car data for given type\", fontsize = 20)\n",
    "plt.show()\n"
   ]
  },
  {
   "cell_type": "code",
   "execution_count": 858,
   "metadata": {},
   "outputs": [
    {
     "name": "stdout",
     "output_type": "stream",
     "text": [
      "<class 'pandas.core.frame.DataFrame'>\n",
      "Int64Index: 274932 entries, 27 to 426879\n",
      "Data columns (total 11 columns):\n",
      " #   Column        Non-Null Count   Dtype \n",
      "---  ------        --------------   ----- \n",
      " 0   price         274932 non-null  Int64 \n",
      " 1   year          274932 non-null  Int64 \n",
      " 2   manufacturer  274932 non-null  string\n",
      " 3   condition     274932 non-null  string\n",
      " 4   cylinders     274932 non-null  string\n",
      " 5   fuel          274932 non-null  string\n",
      " 6   odometer      274932 non-null  Int64 \n",
      " 7   transmission  274932 non-null  string\n",
      " 8   drive         274932 non-null  string\n",
      " 9   type          274932 non-null  string\n",
      " 10  paint_color   274932 non-null  string\n",
      "dtypes: Int64(3), string(8)\n",
      "memory usage: 26.0 MB\n"
     ]
    }
   ],
   "source": [
    "UsedCar_data_r2.info()"
   ]
  },
  {
   "attachments": {},
   "cell_type": "markdown",
   "metadata": {},
   "source": [
    "afteer keeping only [\"cylinders\"].isin(['8 cylinders','6 cylinders','4 cylinders']"
   ]
  },
  {
   "cell_type": "code",
   "execution_count": 859,
   "metadata": {},
   "outputs": [
    {
     "data": {
      "image/png": "[encoded data removed]",
      "text/plain": [
       "<Figure size 2000x1500 with 1 Axes>"
      ]
     },
     "metadata": {},
     "output_type": "display_data"
    }
   ],
   "source": [
    "UsedCar_data_r2 = UsedCar_data_r2.loc[UsedCar_data_r2[\"cylinders\"].isin(['8 cylinders','6 cylinders','4 cylinders'])]\n",
    "plt.figure(figsize = (20, 15))\n",
    "sns.countplot(y = UsedCar_data_r2.cylinders)\n",
    "plt.title(\"Numbers of Car data for given model\", fontsize = 20)\n",
    "plt.show()\n"
   ]
  },
  {
   "cell_type": "code",
   "execution_count": 860,
   "metadata": {},
   "outputs": [
    {
     "name": "stdout",
     "output_type": "stream",
     "text": [
      "<class 'pandas.core.frame.DataFrame'>\n",
      "Int64Index: 183451 entries, 27 to 426878\n",
      "Data columns (total 11 columns):\n",
      " #   Column        Non-Null Count   Dtype \n",
      "---  ------        --------------   ----- \n",
      " 0   price         183451 non-null  Int64 \n",
      " 1   year          183451 non-null  Int64 \n",
      " 2   manufacturer  183451 non-null  string\n",
      " 3   condition     183451 non-null  string\n",
      " 4   cylinders     183451 non-null  string\n",
      " 5   fuel          183451 non-null  string\n",
      " 6   odometer      183451 non-null  Int64 \n",
      " 7   transmission  183451 non-null  string\n",
      " 8   drive         183451 non-null  string\n",
      " 9   type          183451 non-null  string\n",
      " 10  paint_color   183451 non-null  string\n",
      "dtypes: Int64(3), string(8)\n",
      "memory usage: 17.3 MB\n"
     ]
    }
   ],
   "source": [
    "UsedCar_data_r2.info()"
   ]
  },
  {
   "attachments": {},
   "cell_type": "markdown",
   "metadata": {},
   "source": [
    "I execuetd One-Hot Encode for features to conevr them in usefull values"
   ]
  },
  {
   "cell_type": "code",
   "execution_count": 861,
   "metadata": {},
   "outputs": [],
   "source": [
    "\n",
    "one_hot = pd.get_dummies(UsedCar_data_r2['condition'])\n",
    "UsedCar_data_r2 = UsedCar_data_r2.drop('condition',axis = 1)\n",
    "UsedCar_data_r2 = UsedCar_data_r2.join(one_hot)\n",
    "\n",
    "\n"
   ]
  },
  {
   "cell_type": "code",
   "execution_count": 862,
   "metadata": {},
   "outputs": [
    {
     "name": "stdout",
     "output_type": "stream",
     "text": [
      "<class 'pandas.core.frame.DataFrame'>\n",
      "Int64Index: 183451 entries, 27 to 426878\n",
      "Data columns (total 16 columns):\n",
      " #   Column        Non-Null Count   Dtype \n",
      "---  ------        --------------   ----- \n",
      " 0   price         183451 non-null  Int64 \n",
      " 1   year          183451 non-null  Int64 \n",
      " 2   manufacturer  183451 non-null  string\n",
      " 3   cylinders     183451 non-null  string\n",
      " 4   fuel          183451 non-null  string\n",
      " 5   odometer      183451 non-null  Int64 \n",
      " 6   transmission  183451 non-null  string\n",
      " 7   drive         183451 non-null  string\n",
      " 8   type          183451 non-null  string\n",
      " 9   paint_color   183451 non-null  string\n",
      " 10  excellent     183451 non-null  uint8 \n",
      " 11  fair          183451 non-null  uint8 \n",
      " 12  good          183451 non-null  uint8 \n",
      " 13  like new      183451 non-null  uint8 \n",
      " 14  new           183451 non-null  uint8 \n",
      " 15  salvage       183451 non-null  uint8 \n",
      "dtypes: Int64(3), string(7), uint8(6)\n",
      "memory usage: 21.0 MB\n"
     ]
    }
   ],
   "source": [
    "UsedCar_data_r2.info()"
   ]
  },
  {
   "cell_type": "code",
   "execution_count": 863,
   "metadata": {},
   "outputs": [],
   "source": [
    "#UsedCar_data_r2['type'].unique()\n",
    "one_hot = pd.get_dummies(UsedCar_data_r2['type'])\n",
    "UsedCar_data_r2 = UsedCar_data_r2.drop('type',axis = 1)\n",
    "UsedCar_data_r2 = UsedCar_data_r2.join(one_hot)\n"
   ]
  },
  {
   "cell_type": "code",
   "execution_count": 864,
   "metadata": {},
   "outputs": [],
   "source": [
    "UsedCar_data_r2['transmission'] = UsedCar_data_r2['transmission'].replace('other','other_tarn')\n",
    "\n",
    "one_hot = pd.get_dummies(UsedCar_data_r2['transmission'])\n",
    "UsedCar_data_r2 = UsedCar_data_r2.drop('transmission',axis = 1)\n",
    "UsedCar_data_r2 = UsedCar_data_r2.join(one_hot)\n",
    "\n"
   ]
  },
  {
   "cell_type": "code",
   "execution_count": 865,
   "metadata": {},
   "outputs": [],
   "source": [
    "one_hot = pd.get_dummies(UsedCar_data_r2['cylinders'])\n",
    "UsedCar_data_r2 = UsedCar_data_r2.drop('cylinders',axis = 1)\n",
    "UsedCar_data_r2 = UsedCar_data_r2.join(one_hot)\n",
    "\n"
   ]
  },
  {
   "cell_type": "code",
   "execution_count": 866,
   "metadata": {},
   "outputs": [
    {
     "name": "stdout",
     "output_type": "stream",
     "text": [
      "<class 'pandas.core.frame.DataFrame'>\n",
      "Int64Index: 183451 entries, 27 to 426878\n",
      "Data columns (total 30 columns):\n",
      " #   Column        Non-Null Count   Dtype \n",
      "---  ------        --------------   ----- \n",
      " 0   price         183451 non-null  Int64 \n",
      " 1   year          183451 non-null  Int64 \n",
      " 2   manufacturer  183451 non-null  string\n",
      " 3   fuel          183451 non-null  string\n",
      " 4   odometer      183451 non-null  Int64 \n",
      " 5   drive         183451 non-null  string\n",
      " 6   paint_color   183451 non-null  string\n",
      " 7   excellent     183451 non-null  uint8 \n",
      " 8   fair          183451 non-null  uint8 \n",
      " 9   good          183451 non-null  uint8 \n",
      " 10  like new      183451 non-null  uint8 \n",
      " 11  new           183451 non-null  uint8 \n",
      " 12  salvage       183451 non-null  uint8 \n",
      " 13  SUV           183451 non-null  uint8 \n",
      " 14  convertible   183451 non-null  uint8 \n",
      " 15  coupe         183451 non-null  uint8 \n",
      " 16  hatchback     183451 non-null  uint8 \n",
      " 17  mini-van      183451 non-null  uint8 \n",
      " 18  pickup        183451 non-null  uint8 \n",
      " 19  sedan         183451 non-null  uint8 \n",
      " 20  truck         183451 non-null  uint8 \n",
      " 21  van           183451 non-null  uint8 \n",
      " 22  wagon         183451 non-null  uint8 \n",
      " 23  NaN_tran      183451 non-null  uint8 \n",
      " 24  automatic     183451 non-null  uint8 \n",
      " 25  manual        183451 non-null  uint8 \n",
      " 26  other_tarn    183451 non-null  uint8 \n",
      " 27  4 cylinders   183451 non-null  uint8 \n",
      " 28  6 cylinders   183451 non-null  uint8 \n",
      " 29  8 cylinders   183451 non-null  uint8 \n",
      "dtypes: Int64(3), string(4), uint8(23)\n",
      "memory usage: 19.8 MB\n"
     ]
    }
   ],
   "source": [
    "UsedCar_data_r2.info()"
   ]
  },
  {
   "cell_type": "code",
   "execution_count": 867,
   "metadata": {},
   "outputs": [],
   "source": [
    "\n",
    "one_hot = pd.get_dummies(UsedCar_data_r2['fuel'])\n",
    "UsedCar_data_r2 = UsedCar_data_r2.drop('fuel',axis = 1)\n",
    "UsedCar_data_r2 = UsedCar_data_r2.join(one_hot)"
   ]
  },
  {
   "cell_type": "code",
   "execution_count": 868,
   "metadata": {},
   "outputs": [],
   "source": [
    "one_hot = pd.get_dummies(UsedCar_data_r2['drive'])\n",
    "UsedCar_data_r2 = UsedCar_data_r2.drop('drive',axis = 1)\n",
    "UsedCar_data_r2 = UsedCar_data_r2.join(one_hot)"
   ]
  },
  {
   "cell_type": "code",
   "execution_count": 869,
   "metadata": {},
   "outputs": [],
   "source": [
    "one_hot = pd.get_dummies(UsedCar_data_r2['manufacturer'])\n",
    "UsedCar_data_r2 = UsedCar_data_r2.drop('manufacturer',axis = 1)\n",
    "UsedCar_data_r2 = UsedCar_data_r2.join(one_hot)\n",
    "\n"
   ]
  },
  {
   "cell_type": "code",
   "execution_count": 870,
   "metadata": {},
   "outputs": [],
   "source": [
    "one_hot = pd.get_dummies(UsedCar_data_r2['paint_color'])\n",
    "UsedCar_data_r2 = UsedCar_data_r2.drop('paint_color',axis = 1)\n",
    "UsedCar_data_r2 = UsedCar_data_r2.join(one_hot)\n"
   ]
  },
  {
   "cell_type": "code",
   "execution_count": null,
   "metadata": {},
   "outputs": [],
   "source": []
  },
  {
   "attachments": {},
   "cell_type": "markdown",
   "metadata": {},
   "source": [
    "3\n",
    "\n",
    "\n",
    "Each square shows the correlation between the variables on each axis. Correlation ranges from -1 to +1. Values closer to zero means there is no linear trend between the two variables. The close to 1 the correlation is the more positively correlated they are; that is as one increases so does the other and the closer to 1 the stronger this relationship is. A correlation closer to -1 is similar, but instead of both increasing one variable will decrease as the other increases. The diagonals are all 1/dark green because those squares are correlating each variable to itself (so it's a perfect correlation). For the rest the larger the number and darker the color the higher the correlation between the two variables. The plot is also symmetrical about the diagonal since the same two variables are being paired together in those squares\n",
    "\n",
    "\n"
   ]
  },
  {
   "cell_type": "markdown",
   "metadata": {},
   "source": [
    "### Data Preparation\n",
    "\n",
    "After our initial exploration and fine tuning of the business understanding, it is time to construct our final dataset prior to modeling.  Here, we want to make sure to handle any integrity issues and cleaning, the engineering of new features, any transformations that we believe should happen (scaling, logarithms, normalization, etc.), and general preparation for modeling with `sklearn`. "
   ]
  },
  {
   "cell_type": "code",
   "execution_count": 871,
   "metadata": {},
   "outputs": [
    {
     "name": "stdout",
     "output_type": "stream",
     "text": [
      "<class 'pandas.core.frame.DataFrame'>\n",
      "Int64Index: 183451 entries, 27 to 426878\n",
      "Data columns (total 90 columns):\n",
      " #   Column           Non-Null Count   Dtype\n",
      "---  ------           --------------   -----\n",
      " 0   price            183451 non-null  Int64\n",
      " 1   year             183451 non-null  Int64\n",
      " 2   odometer         183451 non-null  Int64\n",
      " 3   excellent        183451 non-null  uint8\n",
      " 4   fair             183451 non-null  uint8\n",
      " 5   good             183451 non-null  uint8\n",
      " 6   like new         183451 non-null  uint8\n",
      " 7   new              183451 non-null  uint8\n",
      " 8   salvage          183451 non-null  uint8\n",
      " 9   SUV              183451 non-null  uint8\n",
      " 10  convertible      183451 non-null  uint8\n",
      " 11  coupe            183451 non-null  uint8\n",
      " 12  hatchback        183451 non-null  uint8\n",
      " 13  mini-van         183451 non-null  uint8\n",
      " 14  pickup           183451 non-null  uint8\n",
      " 15  sedan            183451 non-null  uint8\n",
      " 16  truck            183451 non-null  uint8\n",
      " 17  van              183451 non-null  uint8\n",
      " 18  wagon            183451 non-null  uint8\n",
      " 19  NaN_tran         183451 non-null  uint8\n",
      " 20  automatic        183451 non-null  uint8\n",
      " 21  manual           183451 non-null  uint8\n",
      " 22  other_tarn       183451 non-null  uint8\n",
      " 23  4 cylinders      183451 non-null  uint8\n",
      " 24  6 cylinders      183451 non-null  uint8\n",
      " 25  8 cylinders      183451 non-null  uint8\n",
      " 26  NaN_fuel         183451 non-null  uint8\n",
      " 27  diesel           183451 non-null  uint8\n",
      " 28  electric         183451 non-null  uint8\n",
      " 29  gas              183451 non-null  uint8\n",
      " 30  hybrid           183451 non-null  uint8\n",
      " 31  other            183451 non-null  uint8\n",
      " 32  4wd              183451 non-null  uint8\n",
      " 33  NaN_drive        183451 non-null  uint8\n",
      " 34  fwd              183451 non-null  uint8\n",
      " 35  rwd              183451 non-null  uint8\n",
      " 36  Unknown_man      183451 non-null  uint8\n",
      " 37  acura            183451 non-null  uint8\n",
      " 38  alfa-romeo       183451 non-null  uint8\n",
      " 39  aston-martin     183451 non-null  uint8\n",
      " 40  audi             183451 non-null  uint8\n",
      " 41  bmw              183451 non-null  uint8\n",
      " 42  buick            183451 non-null  uint8\n",
      " 43  cadillac         183451 non-null  uint8\n",
      " 44  chevrolet        183451 non-null  uint8\n",
      " 45  chrysler         183451 non-null  uint8\n",
      " 46  dodge            183451 non-null  uint8\n",
      " 47  ferrari          183451 non-null  uint8\n",
      " 48  fiat             183451 non-null  uint8\n",
      " 49  ford             183451 non-null  uint8\n",
      " 50  gmc              183451 non-null  uint8\n",
      " 51  harley-davidson  183451 non-null  uint8\n",
      " 52  honda            183451 non-null  uint8\n",
      " 53  hyundai          183451 non-null  uint8\n",
      " 54  infiniti         183451 non-null  uint8\n",
      " 55  jaguar           183451 non-null  uint8\n",
      " 56  jeep             183451 non-null  uint8\n",
      " 57  kia              183451 non-null  uint8\n",
      " 58  land rover       183451 non-null  uint8\n",
      " 59  lexus            183451 non-null  uint8\n",
      " 60  lincoln          183451 non-null  uint8\n",
      " 61  mazda            183451 non-null  uint8\n",
      " 62  mercedes-benz    183451 non-null  uint8\n",
      " 63  mercury          183451 non-null  uint8\n",
      " 64  mini             183451 non-null  uint8\n",
      " 65  mitsubishi       183451 non-null  uint8\n",
      " 66  nissan           183451 non-null  uint8\n",
      " 67  pontiac          183451 non-null  uint8\n",
      " 68  porsche          183451 non-null  uint8\n",
      " 69  ram              183451 non-null  uint8\n",
      " 70  rover            183451 non-null  uint8\n",
      " 71  saturn           183451 non-null  uint8\n",
      " 72  subaru           183451 non-null  uint8\n",
      " 73  tesla            183451 non-null  uint8\n",
      " 74  toyota           183451 non-null  uint8\n",
      " 75  volkswagen       183451 non-null  uint8\n",
      " 76  volvo            183451 non-null  uint8\n",
      " 77  NaN_paint_color  183451 non-null  uint8\n",
      " 78  black            183451 non-null  uint8\n",
      " 79  blue             183451 non-null  uint8\n",
      " 80  brown            183451 non-null  uint8\n",
      " 81  custom           183451 non-null  uint8\n",
      " 82  green            183451 non-null  uint8\n",
      " 83  grey             183451 non-null  uint8\n",
      " 84  orange           183451 non-null  uint8\n",
      " 85  purple           183451 non-null  uint8\n",
      " 86  red              183451 non-null  uint8\n",
      " 87  silver           183451 non-null  uint8\n",
      " 88  white            183451 non-null  uint8\n",
      " 89  yellow           183451 non-null  uint8\n",
      "dtypes: Int64(3), uint8(87)\n",
      "memory usage: 25.4 MB\n"
     ]
    }
   ],
   "source": [
    "#UsedCar_data_r2 = UsedCar_data_r2.drop('model',axis = 1)\n",
    "UsedCar_data_r2.info()\n"
   ]
  },
  {
   "cell_type": "code",
   "execution_count": 872,
   "metadata": {},
   "outputs": [
    {
     "name": "stdout",
     "output_type": "stream",
     "text": [
      "<IntegerArray>\n",
      "[ 3800, 59990, 12500, 45000, 25990, 52590, 32995, 14900, 32850, 15995,\n",
      " ...\n",
      " 19999, 11900,  5450,  6995, 37998,   500, 14400,  6500,  9900, 41752]\n",
      "Length: 36691, dtype: Int64\n"
     ]
    }
   ],
   "source": [
    "from sklearn.preprocessing import MinMaxScaler\n",
    "\n",
    "X = UsedCar_data_r2.drop(['price'], axis=1).values\n",
    "y = UsedCar_data_r2['price'].values\n",
    "X_train, X_test, y_train, y_test = train_test_split(X, y, test_size = 0.2, random_state = 100)\n",
    "\n",
    "print(y_test)\n",
    "# scaler = MinMaxScaler()\n",
    "# scaler.fit(X_train)\n",
    "# X_train_new = scaler.transform(X_train)\n",
    "# X_test_new = scaler.transform(X_test)"
   ]
  },
  {
   "cell_type": "code",
   "execution_count": null,
   "metadata": {},
   "outputs": [],
   "source": []
  },
  {
   "cell_type": "markdown",
   "metadata": {},
   "source": [
    "### Modeling\n",
    "\n",
    "With your (almost?) final dataset in hand, it is now time to build some models.  Here, you should build a number of different regression models with the price as the target.  In building your models, you should explore different parameters and be sure to cross-validate your findings."
   ]
  },
  {
   "cell_type": "code",
   "execution_count": 873,
   "metadata": {},
   "outputs": [
    {
     "name": "stdout",
     "output_type": "stream",
     "text": [
      "[-5.23480850e+03 -2.18469683e-02  5.22780058e+04 -3.59989655e+04\n",
      " -1.05170235e+04  1.83605777e+04 -4.09555329e+03 -2.00270412e+04\n",
      " -2.94459177e+04 -5.55253253e+04  5.91094621e+03 -3.44067462e+04\n",
      " -7.44632974e+04  2.87132801e+05 -3.05607370e+04 -4.12008850e+04\n",
      "  7.20879314e+03 -3.46496319e+04  4.42981117e+04  2.57317686e+04\n",
      " -2.77988314e+04 -4.22310488e+04 -4.15472588e+04 -4.72493399e+04\n",
      "  8.87965987e+04 -1.05518618e+04  1.16177379e+05 -4.49688187e+03\n",
      "  2.83131668e+04 -6.78055798e+04 -6.16362227e+04  1.60206836e+04\n",
      " -2.99364260e+04  8.42649563e+02  1.30730929e+04 -3.07405712e+04\n",
      "  4.56360550e+04  8.50562748e+04 -3.71948703e+04  4.12793396e+04\n",
      "  3.29984887e+03  1.05569371e+05 -1.84895183e+04 -9.61135478e+04\n",
      "  2.49634672e+04  5.81231445e+03  3.40249559e+04  6.71289151e+04\n",
      " -4.51427836e+04 -1.23427588e+05 -3.23582967e+05  1.37379602e+04\n",
      "  2.57050226e+04  6.02282104e+04 -1.14706497e+04  2.82021214e+04\n",
      "  3.95635266e+04 -6.18302269e+04  9.07070798e+03  1.99592930e+04\n",
      "  2.93230469e+04 -2.34160913e+04 -8.21211508e+04  4.74128158e+04\n",
      "  1.78246542e+04  7.59961373e+02 -2.17124203e+04  2.93695377e+04\n",
      " -1.67581591e+05 -2.86325220e+04 -2.46572206e+03  2.20550164e+04\n",
      "  4.18144081e+04  2.43446879e+05  2.21660578e+04  1.05124590e+04\n",
      "  4.59308093e+03 -2.47534357e+03 -1.11683790e+04 -4.98599585e+04\n",
      " -1.23444405e+04 -5.59792695e+04 -6.46563395e+03  3.23111095e+01\n",
      " -2.03771371e+03 -3.30661244e+04  1.79751629e+05  9.63092742e+03\n",
      " -2.06110848e+04]\n",
      "443192264497.6329\n",
      "123592.52152277033\n",
      "Coefficients: [-5.23480850e+03 -2.18469683e-02  5.22780058e+04 -3.59989655e+04\n",
      " -1.05170235e+04  1.83605777e+04 -4.09555329e+03 -2.00270412e+04\n",
      " -2.94459177e+04 -5.55253253e+04  5.91094621e+03 -3.44067462e+04\n",
      " -7.44632974e+04  2.87132801e+05 -3.05607370e+04 -4.12008850e+04\n",
      "  7.20879314e+03 -3.46496319e+04  4.42981117e+04  2.57317686e+04\n",
      " -2.77988314e+04 -4.22310488e+04 -4.15472588e+04 -4.72493399e+04\n",
      "  8.87965987e+04 -1.05518618e+04  1.16177379e+05 -4.49688187e+03\n",
      "  2.83131668e+04 -6.78055798e+04 -6.16362227e+04  1.60206836e+04\n",
      " -2.99364260e+04  8.42649563e+02  1.30730929e+04 -3.07405712e+04\n",
      "  4.56360550e+04  8.50562748e+04 -3.71948703e+04  4.12793396e+04\n",
      "  3.29984887e+03  1.05569371e+05 -1.84895183e+04 -9.61135478e+04\n",
      "  2.49634672e+04  5.81231445e+03  3.40249559e+04  6.71289151e+04\n",
      " -4.51427836e+04 -1.23427588e+05 -3.23582967e+05  1.37379602e+04\n",
      "  2.57050226e+04  6.02282104e+04 -1.14706497e+04  2.82021214e+04\n",
      "  3.95635266e+04 -6.18302269e+04  9.07070798e+03  1.99592930e+04\n",
      "  2.93230469e+04 -2.34160913e+04 -8.21211508e+04  4.74128158e+04\n",
      "  1.78246542e+04  7.59961373e+02 -2.17124203e+04  2.93695377e+04\n",
      " -1.67581591e+05 -2.86325220e+04 -2.46572206e+03  2.20550164e+04\n",
      "  4.18144081e+04  2.43446879e+05  2.21660578e+04  1.05124590e+04\n",
      "  4.59308093e+03 -2.47534357e+03 -1.11683790e+04 -4.98599585e+04\n",
      " -1.23444405e+04 -5.59792695e+04 -6.46563395e+03  3.23111095e+01\n",
      " -2.03771371e+03 -3.30661244e+04  1.79751629e+05  9.63092742e+03\n",
      " -2.06110848e+04]\n",
      "Intercept: 10510616.770495648\n"
     ]
    }
   ],
   "source": [
    "from sklearn.metrics import mean_absolute_error, mean_squared_error\n",
    "\n",
    "model = LinearRegression()\n",
    "model.fit(X_train, y_train)\n",
    "\n",
    "print(model.coef_)\n",
    "\n",
    "y_predict = model.predict(X_test)\n",
    "print(mean_squared_error(y_predict, y_test))\n",
    "print(mean_absolute_error(y_predict, y_test))\n",
    "\n",
    "print('Coefficients:', model.coef_)\n",
    "print('Intercept:', model.intercept_)\n",
    "# error_mean_square.append(int(mean_squared_error(y_predict, y_test)))\n",
    "# error_mean_absolute.append(int(mean_absolute_error(y_predict, y_test)))"
   ]
  },
  {
   "cell_type": "code",
   "execution_count": 874,
   "metadata": {},
   "outputs": [
    {
     "data": {
      "text/plain": [
       "Text(0, 0.5, 'Predicted Y')"
      ]
     },
     "execution_count": 874,
     "metadata": {},
     "output_type": "execute_result"
    },
    {
     "data": {
      "image/png": "[encoded data removed]",
      "text/plain": [
       "<Figure size 640x480 with 1 Axes>"
      ]
     },
     "metadata": {},
     "output_type": "display_data"
    }
   ],
   "source": [
    "plt.scatter(x = y_test, y = y_predict)\n",
    "plt.xlabel('Y Test')\n",
    "plt.ylabel('Predicted Y')"
   ]
  },
  {
   "cell_type": "code",
   "execution_count": 875,
   "metadata": {},
   "outputs": [
    {
     "data": {
      "text/plain": [
       "<seaborn.axisgrid.FacetGrid at 0x1f5c9547250>"
      ]
     },
     "execution_count": 875,
     "metadata": {},
     "output_type": "execute_result"
    },
    {
     "data": {
      "image/png": "[encoded data removed]",
      "text/plain": [
       "<Figure size 500x500 with 1 Axes>"
      ]
     },
     "metadata": {},
     "output_type": "display_data"
    }
   ],
   "source": [
    "\n",
    "sns.displot((y_predict), bins = 50)"
   ]
  },
  {
   "cell_type": "markdown",
   "metadata": {},
   "source": [
    "### Evaluation\n",
    "\n",
    "With some modeling accomplished, we aim to reflect on what we identify as a high quality model and what we are able to learn from this.  We should review our business objective and explore how well we can provide meaningful insight on drivers of used car prices.  Your goal now is to distill your findings and determine whether the earlier phases need revisitation and adjustment or if you have information of value to bring back to your client."
   ]
  },
  {
   "attachments": {},
   "cell_type": "markdown",
   "metadata": {},
   "source": [
    "1. R Square/Adjusted R Square\n",
    "\n",
    "2. Mean Square Error(MSE)/Root Mean Square Error(RMSE)\n",
    "\n",
    "3. Mean Absolute Error(MAE\n"
   ]
  },
  {
   "cell_type": "code",
   "execution_count": 893,
   "metadata": {},
   "outputs": [
    {
     "name": "stdout",
     "output_type": "stream",
     "text": [
      "443192264497.6329\n",
      "123592.52152277033\n",
      "665726.8692922292\n"
     ]
    }
   ],
   "source": [
    "import math\n",
    "\n",
    "print(mean_squared_error(y_test, y_predict))\n",
    "print(mean_absolute_error(y_test, y_predict))\n",
    "\n",
    "print(math.sqrt(mean_squared_error(y_test, y_predict)))\n"
   ]
  },
  {
   "cell_type": "code",
   "execution_count": 892,
   "metadata": {},
   "outputs": [
    {
     "name": "stdout",
     "output_type": "stream",
     "text": [
      "123592.52152277033\n"
     ]
    }
   ],
   "source": []
  },
  {
   "cell_type": "markdown",
   "metadata": {},
   "source": []
  },
  {
   "cell_type": "code",
   "execution_count": 879,
   "metadata": {},
   "outputs": [
    {
     "ename": "AttributeError",
     "evalue": "'FloatingArray' object has no attribute 'mean'",
     "output_type": "error",
     "traceback": [
      "\u001b[1;31m---------------------------------------------------------------------------\u001b[0m",
      "\u001b[1;31mAttributeError\u001b[0m                            Traceback (most recent call last)",
      "Cell \u001b[1;32mIn[879], line 3\u001b[0m\n\u001b[0;32m      1\u001b[0m \u001b[39mimport\u001b[39;00m \u001b[39mmath\u001b[39;00m\n\u001b[1;32m----> 3\u001b[0m MSE \u001b[39m=\u001b[39m np\u001b[39m.\u001b[39;49msquare(np\u001b[39m.\u001b[39;49msubtract(y_test,y_predict))\u001b[39m.\u001b[39;49mmean() \n\u001b[0;32m      5\u001b[0m RMSE \u001b[39m=\u001b[39m math\u001b[39m.\u001b[39msqrt(MSE)\n\u001b[0;32m      6\u001b[0m \u001b[39mprint\u001b[39m(\u001b[39m\"\u001b[39m\u001b[39mRoot Mean Square Error:\u001b[39m\u001b[39m\\n\u001b[39;00m\u001b[39m\"\u001b[39m)\n",
      "\u001b[1;31mAttributeError\u001b[0m: 'FloatingArray' object has no attribute 'mean'"
     ]
    }
   ],
   "source": [
    "import math\n",
    "\n",
    "MSE = np.square(np.subtract(y_test,y_predict)).mean() \n",
    " \n",
    "RMSE = math.sqrt(MSE)\n",
    "print(\"Root Mean Square Error:\\n\")\n",
    "print(RMSE)"
   ]
  },
  {
   "cell_type": "markdown",
   "metadata": {},
   "source": []
  },
  {
   "cell_type": "code",
   "execution_count": null,
   "metadata": {},
   "outputs": [],
   "source": []
  },
  {
   "cell_type": "code",
   "execution_count": null,
   "metadata": {},
   "outputs": [],
   "source": []
  },
  {
   "cell_type": "code",
   "execution_count": null,
   "metadata": {},
   "outputs": [],
   "source": []
  },
  {
   "cell_type": "code",
   "execution_count": null,
   "metadata": {},
   "outputs": [],
   "source": []
  },
  {
   "cell_type": "code",
   "execution_count": null,
   "metadata": {},
   "outputs": [],
   "source": []
  },
  {
   "cell_type": "markdown",
   "metadata": {},
   "source": [
    "### Deployment\n",
    "\n",
    "Now that we've settled on our models and findings, it is time to deliver the information to the client.  You should organize your work as a basic report that details your primary findings.  Keep in mind that your audience is a group of used car dealers interested in fine tuning their inventory."
   ]
  },
  {
   "cell_type": "code",
   "execution_count": null,
   "metadata": {},
   "outputs": [],
   "source": []
  },
  {
   "cell_type": "code",
   "execution_count": null,
   "metadata": {},
   "outputs": [],
   "source": []
  },
  {
   "cell_type": "code",
   "execution_count": null,
   "metadata": {},
   "outputs": [],
   "source": []
  },
  {
   "cell_type": "code",
   "execution_count": null,
   "metadata": {},
   "outputs": [],
   "source": []
  },
  {
   "cell_type": "code",
   "execution_count": null,
   "metadata": {},
   "outputs": [],
   "source": []
  },
  {
   "cell_type": "code",
   "execution_count": null,
   "metadata": {},
   "outputs": [],
   "source": []
  },
  {
   "cell_type": "code",
   "execution_count": null,
   "metadata": {},
   "outputs": [],
   "source": []
  }
 ],
 "metadata": {
  "kernelspec": {
   "display_name": "Python 3",
   "language": "python",
   "name": "python3"
  },
  "language_info": {
   "codemirror_mode": {
    "name": "ipython",
    "version": 3
   },
   "file_extension": ".py",
   "mimetype": "text/x-python",
   "name": "python",
   "nbconvert_exporter": "python",
   "pygments_lexer": "ipython3",
   "version": "3.11.0"
  },
  "vscode": {
   "interpreter": {
    "hash": "c261aea317cc0286b3b3261fbba9abdec21eaa57589985bb7a274bf54d6cc0a7"
   }
  },
  "widgets": {
   "application/vnd.jupyter.widget-state+json": {
    "state": {},
    "version_major": 2,
    "version_minor": 0
   }
  }
 },
 "nbformat": 4,
 "nbformat_minor": 4
}
